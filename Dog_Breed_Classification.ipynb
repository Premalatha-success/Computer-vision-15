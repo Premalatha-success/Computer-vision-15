{
  "nbformat": 4,
  "nbformat_minor": 0,
  "metadata": {
    "colab": {
      "name": "Dog_Breed_Classification.ipynb",
      "provenance": [],
      "collapsed_sections": []
    },
    "kernelspec": {
      "name": "python2",
      "display_name": "Python 2"
    },
    "accelerator": "GPU"
  },
  "cells": [
    {
      "cell_type": "markdown",
      "metadata": {
        "id": "F7MDmaAw2xGO",
        "colab_type": "text"
      },
      "source": [
        "### Load Dataset Files"
      ]
    },
    {
      "cell_type": "code",
      "metadata": {
        "id": "BZWpQv1OwqYK",
        "colab_type": "code",
        "colab": {}
      },
      "source": [
        "from google.colab import drive"
      ],
      "execution_count": 0,
      "outputs": []
    },
    {
      "cell_type": "code",
      "metadata": {
        "id": "fVhB9OopxFbX",
        "colab_type": "code",
        "outputId": "e51acefb-4a82-4dee-ceeb-54738fbd48bc",
        "colab": {
          "base_uri": "https://localhost:8080/",
          "height": 125
        }
      },
      "source": [
        "drive.mount('/content/drive/')"
      ],
      "execution_count": 0,
      "outputs": [
        {
          "output_type": "stream",
          "text": [
            "Go to this URL in a browser: https://accounts.google.com/o/oauth2/auth?client_id=947318989803-6bn6qk8qdgf4n4g3pfee6491hc0brc4i.apps.googleusercontent.com&redirect_uri=urn%3Aietf%3Awg%3Aoauth%3A2.0%3Aoob&scope=email%20https%3A%2F%2Fwww.googleapis.com%2Fauth%2Fdocs.test%20https%3A%2F%2Fwww.googleapis.com%2Fauth%2Fdrive%20https%3A%2F%2Fwww.googleapis.com%2Fauth%2Fdrive.photos.readonly%20https%3A%2F%2Fwww.googleapis.com%2Fauth%2Fpeopleapi.readonly&response_type=code\n",
            "\n",
            "Enter your authorization code:\n",
            "··········\n",
            "Mounted at /content/drive/\n"
          ],
          "name": "stdout"
        }
      ]
    },
    {
      "cell_type": "code",
      "metadata": {
        "id": "Tp6FvAToxUFs",
        "colab_type": "code",
        "colab": {}
      },
      "source": [
        "project_path = \"/content/drive/My Drive/AIML_Labs/Dog_breed/\""
      ],
      "execution_count": 0,
      "outputs": []
    },
    {
      "cell_type": "code",
      "metadata": {
        "id": "3350WZM4w4EL",
        "colab_type": "code",
        "colab": {}
      },
      "source": [
        "from zipfile import ZipFile\n",
        "with ZipFile(project_path+'train.zip', 'r') as z:\n",
        "  z.extractall()"
      ],
      "execution_count": 0,
      "outputs": []
    },
    {
      "cell_type": "code",
      "metadata": {
        "id": "_fxzynvB2YCb",
        "colab_type": "code",
        "colab": {}
      },
      "source": [
        "from zipfile import ZipFile\n",
        "with ZipFile(project_path+'test.zip', 'r') as z:\n",
        "  z.extractall()"
      ],
      "execution_count": 0,
      "outputs": []
    },
    {
      "cell_type": "code",
      "metadata": {
        "id": "4PyTxE8q2jLf",
        "colab_type": "code",
        "colab": {}
      },
      "source": [
        "from zipfile import ZipFile\n",
        "with ZipFile(project_path+'sample_submission.csv.zip', 'r') as z:\n",
        "  z.extractall()"
      ],
      "execution_count": 0,
      "outputs": []
    },
    {
      "cell_type": "code",
      "metadata": {
        "id": "rXtnEoEixbgi",
        "colab_type": "code",
        "colab": {}
      },
      "source": [
        "from zipfile import ZipFile\n",
        "with ZipFile(project_path+'labels.csv.zip', 'r') as z:\n",
        "  z.extractall()"
      ],
      "execution_count": 0,
      "outputs": []
    },
    {
      "cell_type": "code",
      "metadata": {
        "id": "ETfcfkZYxpvu",
        "colab_type": "code",
        "colab": {}
      },
      "source": [
        "import pandas as pd"
      ],
      "execution_count": 0,
      "outputs": []
    },
    {
      "cell_type": "code",
      "metadata": {
        "id": "oLzkBLBRxzoY",
        "colab_type": "code",
        "outputId": "d6de4d96-1987-4ac2-b8c4-66ada0666e0b",
        "colab": {
          "base_uri": "https://localhost:8080/",
          "height": 197
        }
      },
      "source": [
        "labels = pd.read_csv('./labels.csv')\n",
        "labels.head()"
      ],
      "execution_count": 0,
      "outputs": [
        {
          "output_type": "execute_result",
          "data": {
            "text/html": [
              "<div>\n",
              "<style scoped>\n",
              "    .dataframe tbody tr th:only-of-type {\n",
              "        vertical-align: middle;\n",
              "    }\n",
              "\n",
              "    .dataframe tbody tr th {\n",
              "        vertical-align: top;\n",
              "    }\n",
              "\n",
              "    .dataframe thead th {\n",
              "        text-align: right;\n",
              "    }\n",
              "</style>\n",
              "<table border=\"1\" class=\"dataframe\">\n",
              "  <thead>\n",
              "    <tr style=\"text-align: right;\">\n",
              "      <th></th>\n",
              "      <th>id</th>\n",
              "      <th>breed</th>\n",
              "    </tr>\n",
              "  </thead>\n",
              "  <tbody>\n",
              "    <tr>\n",
              "      <th>0</th>\n",
              "      <td>000bec180eb18c7604dcecc8fe0dba07</td>\n",
              "      <td>boston_bull</td>\n",
              "    </tr>\n",
              "    <tr>\n",
              "      <th>1</th>\n",
              "      <td>001513dfcb2ffafc82cccf4d8bbaba97</td>\n",
              "      <td>dingo</td>\n",
              "    </tr>\n",
              "    <tr>\n",
              "      <th>2</th>\n",
              "      <td>001cdf01b096e06d78e9e5112d419397</td>\n",
              "      <td>pekinese</td>\n",
              "    </tr>\n",
              "    <tr>\n",
              "      <th>3</th>\n",
              "      <td>00214f311d5d2247d5dfe4fe24b2303d</td>\n",
              "      <td>bluetick</td>\n",
              "    </tr>\n",
              "    <tr>\n",
              "      <th>4</th>\n",
              "      <td>0021f9ceb3235effd7fcde7f7538ed62</td>\n",
              "      <td>golden_retriever</td>\n",
              "    </tr>\n",
              "  </tbody>\n",
              "</table>\n",
              "</div>"
            ],
            "text/plain": [
              "                                 id             breed\n",
              "0  000bec180eb18c7604dcecc8fe0dba07       boston_bull\n",
              "1  001513dfcb2ffafc82cccf4d8bbaba97             dingo\n",
              "2  001cdf01b096e06d78e9e5112d419397          pekinese\n",
              "3  00214f311d5d2247d5dfe4fe24b2303d          bluetick\n",
              "4  0021f9ceb3235effd7fcde7f7538ed62  golden_retriever"
            ]
          },
          "metadata": {
            "tags": []
          },
          "execution_count": 14
        }
      ]
    },
    {
      "cell_type": "code",
      "metadata": {
        "id": "tfpoZCF4x5Fs",
        "colab_type": "code",
        "outputId": "90414c75-2c75-4967-c044-3f8222f1782a",
        "colab": {
          "base_uri": "https://localhost:8080/",
          "height": 123
        }
      },
      "source": [
        "breed_count = lables['breed'].value_counts()\n",
        "\n",
        "breed_count.head()"
      ],
      "execution_count": 0,
      "outputs": [
        {
          "output_type": "execute_result",
          "data": {
            "text/plain": [
              "scottish_deerhound      126\n",
              "maltese_dog             117\n",
              "afghan_hound            116\n",
              "entlebucher             115\n",
              "bernese_mountain_dog    114\n",
              "Name: breed, dtype: int64"
            ]
          },
          "metadata": {
            "tags": []
          },
          "execution_count": 15
        }
      ]
    },
    {
      "cell_type": "code",
      "metadata": {
        "id": "XQmrggEByDL-",
        "colab_type": "code",
        "outputId": "7e5b12f5-8748-40de-f5ab-c39b0e4183b3",
        "colab": {
          "base_uri": "https://localhost:8080/",
          "height": 34
        }
      },
      "source": [
        "breed_count.shape"
      ],
      "execution_count": 0,
      "outputs": [
        {
          "output_type": "execute_result",
          "data": {
            "text/plain": [
              "(120,)"
            ]
          },
          "metadata": {
            "tags": []
          },
          "execution_count": 16
        }
      ]
    },
    {
      "cell_type": "markdown",
      "metadata": {
        "id": "WI94_Qcc0D4M",
        "colab_type": "text"
      },
      "source": [
        "### One-hot encodings of labels"
      ]
    },
    {
      "cell_type": "code",
      "metadata": {
        "id": "LanB7TMnznOw",
        "colab_type": "code",
        "colab": {}
      },
      "source": [
        "import numpy as np\n",
        "targets = pd.Series(lables['breed'])\n",
        "one_hot = pd.get_dummies(targets)\n",
        "one_hot_labels = np.asarray(one_hot)"
      ],
      "execution_count": 0,
      "outputs": []
    },
    {
      "cell_type": "code",
      "metadata": {
        "id": "6-Tw_KK40M9I",
        "colab_type": "code",
        "outputId": "412b6ad8-d457-4e35-e069-0f774cdc4285",
        "colab": {
          "base_uri": "https://localhost:8080/",
          "height": 123
        }
      },
      "source": [
        "one_hot_labels[0]"
      ],
      "execution_count": 0,
      "outputs": [
        {
          "output_type": "execute_result",
          "data": {
            "text/plain": [
              "array([0, 0, 0, 0, 0, 0, 0, 0, 0, 0, 0, 0, 0, 0, 0, 0, 0, 0, 0, 1, 0, 0,\n",
              "       0, 0, 0, 0, 0, 0, 0, 0, 0, 0, 0, 0, 0, 0, 0, 0, 0, 0, 0, 0, 0, 0,\n",
              "       0, 0, 0, 0, 0, 0, 0, 0, 0, 0, 0, 0, 0, 0, 0, 0, 0, 0, 0, 0, 0, 0,\n",
              "       0, 0, 0, 0, 0, 0, 0, 0, 0, 0, 0, 0, 0, 0, 0, 0, 0, 0, 0, 0, 0, 0,\n",
              "       0, 0, 0, 0, 0, 0, 0, 0, 0, 0, 0, 0, 0, 0, 0, 0, 0, 0, 0, 0, 0, 0,\n",
              "       0, 0, 0, 0, 0, 0, 0, 0, 0, 0], dtype=uint8)"
            ]
          },
          "metadata": {
            "tags": []
          },
          "execution_count": 30
        }
      ]
    },
    {
      "cell_type": "markdown",
      "metadata": {
        "id": "QhrSwtz90HPt",
        "colab_type": "text"
      },
      "source": [
        "Or you can use below code also for creating one hot encodings"
      ]
    },
    {
      "cell_type": "code",
      "metadata": {
        "id": "dUfdUJA5yJ8K",
        "colab_type": "code",
        "outputId": "87e4ac74-e287-44a0-9703-df4497f10b40",
        "colab": {
          "base_uri": "https://localhost:8080/",
          "height": 34
        }
      },
      "source": [
        "from sklearn.preprocessing import LabelEncoder\n",
        "label_encoder = LabelEncoder()\n",
        "integer_encoded = label_encoder.fit_transform(labels['breed'])\n",
        "print(integer_encoded)"
      ],
      "execution_count": 0,
      "outputs": [
        {
          "output_type": "stream",
          "text": [
            "[19 37 85 ...  3 75 28]\n"
          ],
          "name": "stdout"
        }
      ]
    },
    {
      "cell_type": "code",
      "metadata": {
        "id": "xgbx0KGnycKM",
        "colab_type": "code",
        "colab": {}
      },
      "source": [
        "import keras\n",
        "y = keras.utils.to_categorical(integer_encoded, num_classes=None, dtype='int')"
      ],
      "execution_count": 0,
      "outputs": []
    },
    {
      "cell_type": "code",
      "metadata": {
        "id": "7T97tdzLy6As",
        "colab_type": "code",
        "outputId": "6d6c11c9-d7e6-4fd6-ac26-ea3288060190",
        "colab": {
          "base_uri": "https://localhost:8080/",
          "height": 123
        }
      },
      "source": [
        "y[0]"
      ],
      "execution_count": 0,
      "outputs": [
        {
          "output_type": "execute_result",
          "data": {
            "text/plain": [
              "array([0, 0, 0, 0, 0, 0, 0, 0, 0, 0, 0, 0, 0, 0, 0, 0, 0, 0, 0, 1, 0, 0,\n",
              "       0, 0, 0, 0, 0, 0, 0, 0, 0, 0, 0, 0, 0, 0, 0, 0, 0, 0, 0, 0, 0, 0,\n",
              "       0, 0, 0, 0, 0, 0, 0, 0, 0, 0, 0, 0, 0, 0, 0, 0, 0, 0, 0, 0, 0, 0,\n",
              "       0, 0, 0, 0, 0, 0, 0, 0, 0, 0, 0, 0, 0, 0, 0, 0, 0, 0, 0, 0, 0, 0,\n",
              "       0, 0, 0, 0, 0, 0, 0, 0, 0, 0, 0, 0, 0, 0, 0, 0, 0, 0, 0, 0, 0, 0,\n",
              "       0, 0, 0, 0, 0, 0, 0, 0, 0, 0])"
            ]
          },
          "metadata": {
            "tags": []
          },
          "execution_count": 32
        }
      ]
    },
    {
      "cell_type": "code",
      "metadata": {
        "id": "fIdzAwGOz-7w",
        "colab_type": "code",
        "colab": {}
      },
      "source": [
        "img_rows=128\n",
        "img_cols=128\n",
        "num_channel=1"
      ],
      "execution_count": 0,
      "outputs": []
    },
    {
      "cell_type": "code",
      "metadata": {
        "id": "aC2f9ecR0XGR",
        "colab_type": "code",
        "outputId": "217a73f5-d6da-47bd-c081-d3370b26c716",
        "colab": {
          "base_uri": "https://localhost:8080/",
          "height": 34
        }
      },
      "source": [
        "from tqdm import tqdm\n",
        "import cv2\n",
        "x_feature = []\n",
        "y_feature = []\n",
        "\n",
        "i = 0 # initialisation\n",
        "for f, img in tqdm(lables.values): # f for format ,jpg\n",
        "    train_img = cv2.imread('./train/{}.jpg'.format(f),0)\n",
        "    label = one_hot_labels[i]\n",
        "    train_img_resize = cv2.resize(train_img, (img_rows, img_cols)) \n",
        "    x_feature.append(train_img_resize)\n",
        "    y_feature.append(label)\n",
        "    i += 1"
      ],
      "execution_count": 0,
      "outputs": [
        {
          "output_type": "stream",
          "text": [
            "100%|██████████| 10222/10222 [00:15<00:00, 662.47it/s]\n"
          ],
          "name": "stderr"
        }
      ]
    },
    {
      "cell_type": "code",
      "metadata": {
        "id": "nkkZEpOe0ipk",
        "colab_type": "code",
        "outputId": "8eb02c94-c9ed-4be5-c508-98f97fc43a36",
        "colab": {
          "base_uri": "https://localhost:8080/",
          "height": 52
        }
      },
      "source": [
        "x_train_data = np.array(x_feature, np.float32) / 255.   # /= 255 for normolisation\n",
        "print (x_train_data.shape)\n",
        "x_train_data = np.expand_dims(x_train_data, axis = 3) # for keras to given input to Conv2D layer\n",
        "print (x_train_data.shape)\n"
      ],
      "execution_count": 0,
      "outputs": [
        {
          "output_type": "stream",
          "text": [
            "(10222, 128, 128)\n",
            "(10222, 128, 128, 1)\n"
          ],
          "name": "stdout"
        }
      ]
    },
    {
      "cell_type": "code",
      "metadata": {
        "id": "ARn76j3U1CDa",
        "colab_type": "code",
        "outputId": "46f82739-d73d-4563-fff5-400050c28a90",
        "colab": {
          "base_uri": "https://localhost:8080/",
          "height": 34
        }
      },
      "source": [
        "y_train_data = np.array(y_feature)\n",
        "\n",
        "y_train_data.shape"
      ],
      "execution_count": 0,
      "outputs": [
        {
          "output_type": "execute_result",
          "data": {
            "text/plain": [
              "(10222, 120)"
            ]
          },
          "metadata": {
            "tags": []
          },
          "execution_count": 45
        }
      ]
    },
    {
      "cell_type": "markdown",
      "metadata": {
        "id": "bdCXuAE11gZL",
        "colab_type": "text"
      },
      "source": [
        "### Split the training and validation data here"
      ]
    },
    {
      "cell_type": "code",
      "metadata": {
        "id": "VON2B0zH1PKB",
        "colab_type": "code",
        "outputId": "c7898c64-96a8-4f7e-c483-ac14e69154fe",
        "colab": {
          "base_uri": "https://localhost:8080/",
          "height": 52
        }
      },
      "source": [
        "from sklearn.model_selection import train_test_split\n",
        "x_train, x_val, y_train, y_val = train_test_split(x_train_data, y_train_data, test_size=0.2, random_state=2)\n",
        "print (x_train.shape)\n",
        "print (x_val.shape)"
      ],
      "execution_count": 0,
      "outputs": [
        {
          "output_type": "stream",
          "text": [
            "(8177, 128, 128, 1)\n",
            "(2045, 128, 128, 1)\n"
          ],
          "name": "stdout"
        }
      ]
    },
    {
      "cell_type": "markdown",
      "metadata": {
        "id": "PBa_9nm429o8",
        "colab_type": "text"
      },
      "source": [
        "### Test features"
      ]
    },
    {
      "cell_type": "code",
      "metadata": {
        "id": "0kAKx1GP3dwh",
        "colab_type": "code",
        "outputId": "247c4996-f11d-4850-a4d9-3e9be370dbe0",
        "colab": {
          "base_uri": "https://localhost:8080/",
          "height": 263
        }
      },
      "source": [
        "submission = pd.read_csv('sample_submission.csv')\n",
        "test_img = submission['id']\n",
        "submission.head()"
      ],
      "execution_count": 0,
      "outputs": [
        {
          "output_type": "execute_result",
          "data": {
            "text/html": [
              "<div>\n",
              "<style scoped>\n",
              "    .dataframe tbody tr th:only-of-type {\n",
              "        vertical-align: middle;\n",
              "    }\n",
              "\n",
              "    .dataframe tbody tr th {\n",
              "        vertical-align: top;\n",
              "    }\n",
              "\n",
              "    .dataframe thead th {\n",
              "        text-align: right;\n",
              "    }\n",
              "</style>\n",
              "<table border=\"1\" class=\"dataframe\">\n",
              "  <thead>\n",
              "    <tr style=\"text-align: right;\">\n",
              "      <th></th>\n",
              "      <th>id</th>\n",
              "      <th>affenpinscher</th>\n",
              "      <th>afghan_hound</th>\n",
              "      <th>african_hunting_dog</th>\n",
              "      <th>airedale</th>\n",
              "      <th>american_staffordshire_terrier</th>\n",
              "      <th>appenzeller</th>\n",
              "      <th>australian_terrier</th>\n",
              "      <th>basenji</th>\n",
              "      <th>basset</th>\n",
              "      <th>...</th>\n",
              "      <th>toy_poodle</th>\n",
              "      <th>toy_terrier</th>\n",
              "      <th>vizsla</th>\n",
              "      <th>walker_hound</th>\n",
              "      <th>weimaraner</th>\n",
              "      <th>welsh_springer_spaniel</th>\n",
              "      <th>west_highland_white_terrier</th>\n",
              "      <th>whippet</th>\n",
              "      <th>wire-haired_fox_terrier</th>\n",
              "      <th>yorkshire_terrier</th>\n",
              "    </tr>\n",
              "  </thead>\n",
              "  <tbody>\n",
              "    <tr>\n",
              "      <th>0</th>\n",
              "      <td>000621fb3cbb32d8935728e48679680e</td>\n",
              "      <td>0.008333</td>\n",
              "      <td>0.008333</td>\n",
              "      <td>0.008333</td>\n",
              "      <td>0.008333</td>\n",
              "      <td>0.008333</td>\n",
              "      <td>0.008333</td>\n",
              "      <td>0.008333</td>\n",
              "      <td>0.008333</td>\n",
              "      <td>0.008333</td>\n",
              "      <td>...</td>\n",
              "      <td>0.008333</td>\n",
              "      <td>0.008333</td>\n",
              "      <td>0.008333</td>\n",
              "      <td>0.008333</td>\n",
              "      <td>0.008333</td>\n",
              "      <td>0.008333</td>\n",
              "      <td>0.008333</td>\n",
              "      <td>0.008333</td>\n",
              "      <td>0.008333</td>\n",
              "      <td>0.008333</td>\n",
              "    </tr>\n",
              "    <tr>\n",
              "      <th>1</th>\n",
              "      <td>00102ee9d8eb90812350685311fe5890</td>\n",
              "      <td>0.008333</td>\n",
              "      <td>0.008333</td>\n",
              "      <td>0.008333</td>\n",
              "      <td>0.008333</td>\n",
              "      <td>0.008333</td>\n",
              "      <td>0.008333</td>\n",
              "      <td>0.008333</td>\n",
              "      <td>0.008333</td>\n",
              "      <td>0.008333</td>\n",
              "      <td>...</td>\n",
              "      <td>0.008333</td>\n",
              "      <td>0.008333</td>\n",
              "      <td>0.008333</td>\n",
              "      <td>0.008333</td>\n",
              "      <td>0.008333</td>\n",
              "      <td>0.008333</td>\n",
              "      <td>0.008333</td>\n",
              "      <td>0.008333</td>\n",
              "      <td>0.008333</td>\n",
              "      <td>0.008333</td>\n",
              "    </tr>\n",
              "    <tr>\n",
              "      <th>2</th>\n",
              "      <td>0012a730dfa437f5f3613fb75efcd4ce</td>\n",
              "      <td>0.008333</td>\n",
              "      <td>0.008333</td>\n",
              "      <td>0.008333</td>\n",
              "      <td>0.008333</td>\n",
              "      <td>0.008333</td>\n",
              "      <td>0.008333</td>\n",
              "      <td>0.008333</td>\n",
              "      <td>0.008333</td>\n",
              "      <td>0.008333</td>\n",
              "      <td>...</td>\n",
              "      <td>0.008333</td>\n",
              "      <td>0.008333</td>\n",
              "      <td>0.008333</td>\n",
              "      <td>0.008333</td>\n",
              "      <td>0.008333</td>\n",
              "      <td>0.008333</td>\n",
              "      <td>0.008333</td>\n",
              "      <td>0.008333</td>\n",
              "      <td>0.008333</td>\n",
              "      <td>0.008333</td>\n",
              "    </tr>\n",
              "    <tr>\n",
              "      <th>3</th>\n",
              "      <td>001510bc8570bbeee98c8d80c8a95ec1</td>\n",
              "      <td>0.008333</td>\n",
              "      <td>0.008333</td>\n",
              "      <td>0.008333</td>\n",
              "      <td>0.008333</td>\n",
              "      <td>0.008333</td>\n",
              "      <td>0.008333</td>\n",
              "      <td>0.008333</td>\n",
              "      <td>0.008333</td>\n",
              "      <td>0.008333</td>\n",
              "      <td>...</td>\n",
              "      <td>0.008333</td>\n",
              "      <td>0.008333</td>\n",
              "      <td>0.008333</td>\n",
              "      <td>0.008333</td>\n",
              "      <td>0.008333</td>\n",
              "      <td>0.008333</td>\n",
              "      <td>0.008333</td>\n",
              "      <td>0.008333</td>\n",
              "      <td>0.008333</td>\n",
              "      <td>0.008333</td>\n",
              "    </tr>\n",
              "    <tr>\n",
              "      <th>4</th>\n",
              "      <td>001a5f3114548acdefa3d4da05474c2e</td>\n",
              "      <td>0.008333</td>\n",
              "      <td>0.008333</td>\n",
              "      <td>0.008333</td>\n",
              "      <td>0.008333</td>\n",
              "      <td>0.008333</td>\n",
              "      <td>0.008333</td>\n",
              "      <td>0.008333</td>\n",
              "      <td>0.008333</td>\n",
              "      <td>0.008333</td>\n",
              "      <td>...</td>\n",
              "      <td>0.008333</td>\n",
              "      <td>0.008333</td>\n",
              "      <td>0.008333</td>\n",
              "      <td>0.008333</td>\n",
              "      <td>0.008333</td>\n",
              "      <td>0.008333</td>\n",
              "      <td>0.008333</td>\n",
              "      <td>0.008333</td>\n",
              "      <td>0.008333</td>\n",
              "      <td>0.008333</td>\n",
              "    </tr>\n",
              "  </tbody>\n",
              "</table>\n",
              "<p>5 rows × 121 columns</p>\n",
              "</div>"
            ],
            "text/plain": [
              "                                 id  affenpinscher  afghan_hound  \\\n",
              "0  000621fb3cbb32d8935728e48679680e       0.008333      0.008333   \n",
              "1  00102ee9d8eb90812350685311fe5890       0.008333      0.008333   \n",
              "2  0012a730dfa437f5f3613fb75efcd4ce       0.008333      0.008333   \n",
              "3  001510bc8570bbeee98c8d80c8a95ec1       0.008333      0.008333   \n",
              "4  001a5f3114548acdefa3d4da05474c2e       0.008333      0.008333   \n",
              "\n",
              "   african_hunting_dog  airedale  american_staffordshire_terrier  appenzeller  \\\n",
              "0             0.008333  0.008333                        0.008333     0.008333   \n",
              "1             0.008333  0.008333                        0.008333     0.008333   \n",
              "2             0.008333  0.008333                        0.008333     0.008333   \n",
              "3             0.008333  0.008333                        0.008333     0.008333   \n",
              "4             0.008333  0.008333                        0.008333     0.008333   \n",
              "\n",
              "   australian_terrier   basenji    basset        ...          toy_poodle  \\\n",
              "0            0.008333  0.008333  0.008333        ...            0.008333   \n",
              "1            0.008333  0.008333  0.008333        ...            0.008333   \n",
              "2            0.008333  0.008333  0.008333        ...            0.008333   \n",
              "3            0.008333  0.008333  0.008333        ...            0.008333   \n",
              "4            0.008333  0.008333  0.008333        ...            0.008333   \n",
              "\n",
              "   toy_terrier    vizsla  walker_hound  weimaraner  welsh_springer_spaniel  \\\n",
              "0     0.008333  0.008333      0.008333    0.008333                0.008333   \n",
              "1     0.008333  0.008333      0.008333    0.008333                0.008333   \n",
              "2     0.008333  0.008333      0.008333    0.008333                0.008333   \n",
              "3     0.008333  0.008333      0.008333    0.008333                0.008333   \n",
              "4     0.008333  0.008333      0.008333    0.008333                0.008333   \n",
              "\n",
              "   west_highland_white_terrier   whippet  wire-haired_fox_terrier  \\\n",
              "0                     0.008333  0.008333                 0.008333   \n",
              "1                     0.008333  0.008333                 0.008333   \n",
              "2                     0.008333  0.008333                 0.008333   \n",
              "3                     0.008333  0.008333                 0.008333   \n",
              "4                     0.008333  0.008333                 0.008333   \n",
              "\n",
              "   yorkshire_terrier  \n",
              "0           0.008333  \n",
              "1           0.008333  \n",
              "2           0.008333  \n",
              "3           0.008333  \n",
              "4           0.008333  \n",
              "\n",
              "[5 rows x 121 columns]"
            ]
          },
          "metadata": {
            "tags": []
          },
          "execution_count": 59
        }
      ]
    },
    {
      "cell_type": "code",
      "metadata": {
        "id": "VjTKNQkj1oc0",
        "colab_type": "code",
        "outputId": "12c3be0e-cb73-4b40-cc05-24f625b7f0ac",
        "colab": {
          "base_uri": "https://localhost:8080/",
          "height": 34
        }
      },
      "source": [
        "x_test_feature = []\n",
        "\n",
        "i = 0 # initialisation\n",
        "for f in tqdm(test_img.values): # f for format ,jpg\n",
        "    img = cv2.imread('./test/{}.jpg'.format(f), 0)\n",
        "    img_resize = cv2.resize(img, (img_rows, img_cols)) \n",
        "    x_test_feature.append(img_resize)"
      ],
      "execution_count": 0,
      "outputs": [
        {
          "output_type": "stream",
          "text": [
            "100%|██████████| 10357/10357 [00:15<00:00, 664.24it/s]\n"
          ],
          "name": "stderr"
        }
      ]
    },
    {
      "cell_type": "code",
      "metadata": {
        "id": "Xe3LuGhb3F7w",
        "colab_type": "code",
        "outputId": "a4fbb086-7f79-46eb-ce06-2e1c0b83a8ee",
        "colab": {
          "base_uri": "https://localhost:8080/",
          "height": 52
        }
      },
      "source": [
        "x_test_data = np.array(x_test_feature, np.float32) / 255. \n",
        "print (x_test_data.shape)\n",
        "x_test_data = np.expand_dims(x_test_data, axis = 3)\n",
        "print (x_test_data.shape)"
      ],
      "execution_count": 0,
      "outputs": [
        {
          "output_type": "stream",
          "text": [
            "(10357, 128, 128)\n",
            "(10357, 128, 128, 1)\n"
          ],
          "name": "stdout"
        }
      ]
    },
    {
      "cell_type": "code",
      "metadata": {
        "id": "6m9GCXc24wAi",
        "colab_type": "code",
        "colab": {}
      },
      "source": [
        "from keras.models import Sequential  # initial NN\n",
        "from keras.layers import Dense, Dropout # construct each layer\n",
        "from keras.layers import Conv2D # swipe across the image by 1\n",
        "from keras.layers import MaxPooling2D # swipe across by pool size\n",
        "from keras.layers import Flatten, GlobalAveragePooling2D"
      ],
      "execution_count": 0,
      "outputs": []
    },
    {
      "cell_type": "code",
      "metadata": {
        "id": "46NNwEGV41JH",
        "colab_type": "code",
        "colab": {}
      },
      "source": [
        "model = Sequential()\n",
        "\n",
        "model.add(Conv2D(32, (5,5), activation ='relu', input_shape = (img_rows, img_cols, num_channel))) \n",
        "model.add(MaxPooling2D(pool_size=3))\n",
        "#model.add(Dropout(0.2))\n",
        "\n",
        "model.add(Conv2D(filters=64, kernel_size=4, padding='same', activation='relu'))\n",
        "model.add(MaxPooling2D(pool_size=2))\n",
        "#model.add(Dropout(0.2))\n",
        "\n",
        "model.add(Conv2D(filters=128, kernel_size=3, padding='same', activation='relu'))\n",
        "model.add(MaxPooling2D(pool_size=2))\n",
        "model.add(Dropout(0.8))\n",
        "\n",
        "model.add(Conv2D(filters=128, kernel_size=2, padding='same', activation='relu'))\n",
        "model.add(MaxPooling2D(pool_size=2))\n",
        "model.add(Dropout(0.8))\n",
        "\n",
        "model.add(Flatten()) \n",
        "# fully connected layer \n",
        "model.add(Dense(units = 500, activation = 'relu')) \n",
        "model.add(Dropout(0.8))\n",
        "# output layer\n",
        "model.add(Dense(units = 120, activation = 'softmax')) "
      ],
      "execution_count": 0,
      "outputs": []
    },
    {
      "cell_type": "code",
      "metadata": {
        "id": "2xNu2S285HH5",
        "colab_type": "code",
        "outputId": "f3176d62-6172-433a-b317-54d3027a1d85",
        "colab": {
          "base_uri": "https://localhost:8080/",
          "height": 638
        }
      },
      "source": [
        "from keras.optimizers import Adam\n",
        "\n",
        "optimizer = Adam(lr=0.01)\n",
        "model.compile(optimizer = optimizer , loss = \"categorical_crossentropy\", metrics=[\"accuracy\"]) \n",
        "model.summary()"
      ],
      "execution_count": 0,
      "outputs": [
        {
          "output_type": "stream",
          "text": [
            "_________________________________________________________________\n",
            "Layer (type)                 Output Shape              Param #   \n",
            "=================================================================\n",
            "conv2d_119 (Conv2D)          (None, 124, 124, 32)      832       \n",
            "_________________________________________________________________\n",
            "max_pooling2d_98 (MaxPooling (None, 41, 41, 32)        0         \n",
            "_________________________________________________________________\n",
            "conv2d_120 (Conv2D)          (None, 41, 41, 64)        32832     \n",
            "_________________________________________________________________\n",
            "max_pooling2d_99 (MaxPooling (None, 20, 20, 64)        0         \n",
            "_________________________________________________________________\n",
            "conv2d_121 (Conv2D)          (None, 20, 20, 128)       73856     \n",
            "_________________________________________________________________\n",
            "max_pooling2d_100 (MaxPoolin (None, 10, 10, 128)       0         \n",
            "_________________________________________________________________\n",
            "dropout_60 (Dropout)         (None, 10, 10, 128)       0         \n",
            "_________________________________________________________________\n",
            "conv2d_122 (Conv2D)          (None, 10, 10, 128)       65664     \n",
            "_________________________________________________________________\n",
            "max_pooling2d_101 (MaxPoolin (None, 5, 5, 128)         0         \n",
            "_________________________________________________________________\n",
            "dropout_61 (Dropout)         (None, 5, 5, 128)         0         \n",
            "_________________________________________________________________\n",
            "flatten_11 (Flatten)         (None, 3200)              0         \n",
            "_________________________________________________________________\n",
            "dense_30 (Dense)             (None, 500)               1600500   \n",
            "_________________________________________________________________\n",
            "dropout_62 (Dropout)         (None, 500)               0         \n",
            "_________________________________________________________________\n",
            "dense_31 (Dense)             (None, 120)               60120     \n",
            "=================================================================\n",
            "Total params: 1,833,804\n",
            "Trainable params: 1,833,804\n",
            "Non-trainable params: 0\n",
            "_________________________________________________________________\n"
          ],
          "name": "stdout"
        }
      ]
    },
    {
      "cell_type": "code",
      "metadata": {
        "id": "EjfBmzcE5JTc",
        "colab_type": "code",
        "outputId": "dae94c8b-d889-4017-e4a2-7f86b0f3f32e",
        "colab": {
          "base_uri": "https://localhost:8080/",
          "height": 745
        }
      },
      "source": [
        "batch_size = 128\n",
        "nb_epochs = 20\n",
        "history = model.fit(x_train, y_train,\n",
        "                    batch_size=batch_size,\n",
        "                    epochs=nb_epochs, \n",
        "                    validation_data=(x_val, y_val),\n",
        "                    initial_epoch=0)"
      ],
      "execution_count": 0,
      "outputs": [
        {
          "output_type": "stream",
          "text": [
            "Train on 8177 samples, validate on 2045 samples\n",
            "Epoch 1/20\n",
            "8177/8177 [==============================] - 9s 1ms/step - loss: 4.8173 - acc: 0.0094 - val_loss: 4.7888 - val_acc: 0.0088\n",
            "Epoch 2/20\n",
            "8177/8177 [==============================] - 7s 852us/step - loss: 4.7811 - acc: 0.0117 - val_loss: 4.7891 - val_acc: 0.0117\n",
            "Epoch 3/20\n",
            "8177/8177 [==============================] - 7s 852us/step - loss: 4.7795 - acc: 0.0097 - val_loss: 4.7902 - val_acc: 0.0088\n",
            "Epoch 4/20\n",
            "8177/8177 [==============================] - 7s 853us/step - loss: 4.7776 - acc: 0.0116 - val_loss: 4.7915 - val_acc: 0.0117\n",
            "Epoch 5/20\n",
            "8177/8177 [==============================] - 7s 850us/step - loss: 4.7767 - acc: 0.0117 - val_loss: 4.7926 - val_acc: 0.0117\n",
            "Epoch 6/20\n",
            "8177/8177 [==============================] - 7s 848us/step - loss: 4.7771 - acc: 0.0115 - val_loss: 4.7928 - val_acc: 0.0117\n",
            "Epoch 7/20\n",
            "8177/8177 [==============================] - 7s 853us/step - loss: 4.7771 - acc: 0.0114 - val_loss: 4.7926 - val_acc: 0.0117\n",
            "Epoch 8/20\n",
            "8177/8177 [==============================] - 7s 852us/step - loss: 4.7770 - acc: 0.0125 - val_loss: 4.7935 - val_acc: 0.0117\n",
            "Epoch 9/20\n",
            "8177/8177 [==============================] - 7s 853us/step - loss: 4.7769 - acc: 0.0119 - val_loss: 4.7934 - val_acc: 0.0078\n",
            "Epoch 10/20\n",
            "8177/8177 [==============================] - 7s 855us/step - loss: 4.7770 - acc: 0.0116 - val_loss: 4.7934 - val_acc: 0.0117\n",
            "Epoch 11/20\n",
            "8177/8177 [==============================] - 7s 853us/step - loss: 4.7768 - acc: 0.0125 - val_loss: 4.7938 - val_acc: 0.0117\n",
            "Epoch 12/20\n",
            "8177/8177 [==============================] - 7s 850us/step - loss: 4.7770 - acc: 0.0125 - val_loss: 4.7936 - val_acc: 0.0117\n",
            "Epoch 13/20\n",
            "8177/8177 [==============================] - 7s 854us/step - loss: 4.7769 - acc: 0.0105 - val_loss: 4.7936 - val_acc: 0.0117\n",
            "Epoch 14/20\n",
            "8177/8177 [==============================] - 7s 855us/step - loss: 4.7771 - acc: 0.0125 - val_loss: 4.7926 - val_acc: 0.0117\n",
            "Epoch 15/20\n",
            "8177/8177 [==============================] - 7s 855us/step - loss: 4.7771 - acc: 0.0114 - val_loss: 4.7929 - val_acc: 0.0117\n",
            "Epoch 16/20\n",
            "8177/8177 [==============================] - 7s 859us/step - loss: 4.7770 - acc: 0.0119 - val_loss: 4.7931 - val_acc: 0.0117\n",
            "Epoch 17/20\n",
            "8177/8177 [==============================] - 7s 856us/step - loss: 4.7770 - acc: 0.0125 - val_loss: 4.7930 - val_acc: 0.0117\n",
            "Epoch 18/20\n",
            "8177/8177 [==============================] - 7s 855us/step - loss: 4.7770 - acc: 0.0099 - val_loss: 4.7935 - val_acc: 0.0088\n",
            "Epoch 19/20\n",
            "8177/8177 [==============================] - 7s 857us/step - loss: 4.7771 - acc: 0.0113 - val_loss: 4.7933 - val_acc: 0.0117\n",
            "Epoch 20/20\n",
            "8177/8177 [==============================] - 7s 853us/step - loss: 4.7769 - acc: 0.0109 - val_loss: 4.7927 - val_acc: 0.0117\n"
          ],
          "name": "stdout"
        }
      ]
    },
    {
      "cell_type": "markdown",
      "metadata": {
        "id": "pYF5AHR4NmLH",
        "colab_type": "text"
      },
      "source": [
        "### Using Data Augmentation"
      ]
    },
    {
      "cell_type": "code",
      "metadata": {
        "id": "ljG3CQDBE9a6",
        "colab_type": "code",
        "colab": {}
      },
      "source": [
        "from keras.preprocessing.image import img_to_array,load_img,ImageDataGenerator\n",
        "from keras.layers import ZeroPadding2D\n",
        "\n",
        "train_datagen = ImageDataGenerator(\n",
        "    rotation_range=30,\n",
        "    width_shift_range=0.2,\n",
        "    height_shift_range=0.2,\n",
        "    rescale=1./255,\n",
        "    shear_range=0.2,\n",
        "    zoom_range=0.2,\n",
        "    horizontal_flip=True,\n",
        "    fill_mode='nearest')\n",
        "\n",
        "test_datagen=ImageDataGenerator(rescale=1./255)"
      ],
      "execution_count": 0,
      "outputs": []
    },
    {
      "cell_type": "code",
      "metadata": {
        "id": "pI7Y97I8Kb4f",
        "colab_type": "code",
        "colab": {}
      },
      "source": [
        "training_set=train_datagen.flow(x_train,y=y_train,batch_size=32)\n",
        "testing_set=test_datagen.flow(x_val,y=y_val,batch_size=32)"
      ],
      "execution_count": 0,
      "outputs": []
    },
    {
      "cell_type": "code",
      "metadata": {
        "id": "L8z_HmBiKb9k",
        "colab_type": "code",
        "outputId": "8082dfe8-b4c8-46e6-ad0b-f3bdd9695ef7",
        "colab": {
          "base_uri": "https://localhost:8080/",
          "height": 710
        }
      },
      "source": [
        "model=Sequential()\n",
        "\n",
        "# model.add(ZeroPadding2D((1,1),input_shape=(128,128,1)))\n",
        "model.add(Conv2D(32,kernel_size=(3,3),activation='relu'))\n",
        "model.add(ZeroPadding2D(padding=(1,1)))\n",
        "\n",
        "model.add(Conv2D(32,kernel_size=(3,3),activation='relu'))\n",
        "model.add(Conv2D(32,kernel_size=(3,3),activation='relu'))\n",
        "model.add(MaxPooling2D(pool_size=(2,2)))\n",
        "\n",
        "model.add(Conv2D(64,kernel_size=(3,3),activation='relu'))\n",
        "model.add(Conv2D(64,kernel_size=(3,3),activation='relu'))\n",
        "model.add(MaxPooling2D(pool_size=(2,2)))\n",
        "\n",
        "model.add(Conv2D(128,kernel_size=(3,3),activation='relu'))\n",
        "model.add(Conv2D(128,kernel_size=(3,3),activation='relu'))\n",
        "model.add(MaxPooling2D(pool_size=(2,2)))\n",
        "\n",
        "model.add(Flatten())\n",
        "model.add(Dense(500,activation='relu'))\n",
        "model.add(Dropout(0.2))\n",
        "\n",
        "model.add(Dense(120,activation='softmax'))\n",
        "\n",
        "model.compile(loss='categorical_crossentropy', optimizer='adam',metrics=['accuracy'])\n",
        "model.summary()"
      ],
      "execution_count": 0,
      "outputs": [
        {
          "output_type": "stream",
          "text": [
            "_________________________________________________________________\n",
            "Layer (type)                 Output Shape              Param #   \n",
            "=================================================================\n",
            "zero_padding2d_15 (ZeroPaddi (None, 130, 130, 1)       0         \n",
            "_________________________________________________________________\n",
            "conv2d_146 (Conv2D)          (None, 128, 128, 32)      320       \n",
            "_________________________________________________________________\n",
            "zero_padding2d_16 (ZeroPaddi (None, 130, 130, 32)      0         \n",
            "_________________________________________________________________\n",
            "conv2d_147 (Conv2D)          (None, 128, 128, 32)      9248      \n",
            "_________________________________________________________________\n",
            "conv2d_148 (Conv2D)          (None, 126, 126, 32)      9248      \n",
            "_________________________________________________________________\n",
            "max_pooling2d_115 (MaxPoolin (None, 63, 63, 32)        0         \n",
            "_________________________________________________________________\n",
            "conv2d_149 (Conv2D)          (None, 61, 61, 64)        18496     \n",
            "_________________________________________________________________\n",
            "conv2d_150 (Conv2D)          (None, 59, 59, 64)        36928     \n",
            "_________________________________________________________________\n",
            "max_pooling2d_116 (MaxPoolin (None, 29, 29, 64)        0         \n",
            "_________________________________________________________________\n",
            "conv2d_151 (Conv2D)          (None, 27, 27, 128)       73856     \n",
            "_________________________________________________________________\n",
            "conv2d_152 (Conv2D)          (None, 25, 25, 128)       147584    \n",
            "_________________________________________________________________\n",
            "max_pooling2d_117 (MaxPoolin (None, 12, 12, 128)       0         \n",
            "_________________________________________________________________\n",
            "flatten_19 (Flatten)         (None, 18432)             0         \n",
            "_________________________________________________________________\n",
            "dense_46 (Dense)             (None, 500)               9216500   \n",
            "_________________________________________________________________\n",
            "dropout_70 (Dropout)         (None, 500)               0         \n",
            "_________________________________________________________________\n",
            "dense_47 (Dense)             (None, 120)               60120     \n",
            "=================================================================\n",
            "Total params: 9,572,300\n",
            "Trainable params: 9,572,300\n",
            "Non-trainable params: 0\n",
            "_________________________________________________________________\n"
          ],
          "name": "stdout"
        }
      ]
    },
    {
      "cell_type": "code",
      "metadata": {
        "id": "3-u8CxgwKb_9",
        "colab_type": "code",
        "colab": {}
      },
      "source": [
        "history=model.fit_generator(training_set,\n",
        "                      steps_per_epoch = 500,\n",
        "                      validation_data = testing_set,\n",
        "                      validation_steps = 4,\n",
        "                      epochs = 20,\n",
        "                      verbose = 1)"
      ],
      "execution_count": 0,
      "outputs": []
    },
    {
      "cell_type": "markdown",
      "metadata": {
        "id": "Uli0I4OSNrm3",
        "colab_type": "text"
      },
      "source": [
        "### Using Transfer Learning\n",
        "\n",
        "Download the vgg wieght file from here : https://github.com/MinerKasch/applied_deep_learning/blob/master/vgg16_weights_tf_dim_ordering_tf_kernels_notop.h5"
      ]
    },
    {
      "cell_type": "code",
      "metadata": {
        "id": "IjK2hxZZM53F",
        "colab_type": "code",
        "colab": {}
      },
      "source": [
        "from keras.applications.vgg16 import VGG16, preprocess_input\n",
        "\n",
        "\n",
        "# Instantiate the model with the pre-trained weights (no top)\n",
        "base_model= VGG16(weights=(project_path+'vgg16_weights_tf_dim_ordering_tf_kernels_notop.h5'),\n",
        "                 include_top=False, pooling='avg')"
      ],
      "execution_count": 0,
      "outputs": []
    },
    {
      "cell_type": "code",
      "metadata": {
        "id": "gf0_6QCUPIPM",
        "colab_type": "code",
        "outputId": "5cf4a55d-38d8-4fcb-b098-fac5a8ae6965",
        "colab": {
          "base_uri": "https://localhost:8080/",
          "height": 34
        }
      },
      "source": [
        "from tqdm import tqdm\n",
        "import cv2\n",
        "x_feature = []\n",
        "y_feature = []\n",
        "\n",
        "i = 0 # initialisation\n",
        "for f, img in tqdm(lables.values): # f for format ,jpg\n",
        "    train_img = cv2.imread('./train/{}.jpg'.format(f),1)\n",
        "    label = one_hot_labels[i]\n",
        "    train_img_resize = cv2.resize(train_img, (img_rows, img_cols)) \n",
        "    x_feature.append(train_img_resize)\n",
        "    y_feature.append(label)\n",
        "    i += 1"
      ],
      "execution_count": 0,
      "outputs": [
        {
          "output_type": "stream",
          "text": [
            "100%|██████████| 10222/10222 [00:27<00:00, 365.27it/s]\n"
          ],
          "name": "stderr"
        }
      ]
    },
    {
      "cell_type": "markdown",
      "metadata": {
        "id": "VmZkZPHvSvG1",
        "colab_type": "text"
      },
      "source": [
        "### Get Image embedding from the pre-trained model and use that as input to present model"
      ]
    },
    {
      "cell_type": "code",
      "metadata": {
        "id": "-WWNncGlM56i",
        "colab_type": "code",
        "outputId": "460c53a9-d941-4455-f707-920f9f353a76",
        "colab": {
          "base_uri": "https://localhost:8080/",
          "height": 34
        }
      },
      "source": [
        "from keras.preprocessing import image\n",
        "\n",
        "X_arr = []\n",
        "# X_arr = base_model.predict(preprocess_input(img_to_array(image.load_img('./train/'+labels['id'][0]+'.jpg', target_size=[128,128]))))\n",
        "\n",
        "for id, label in tqdm(labels.values):\n",
        "    X_arr.append(base_model.predict(preprocess_input(np.expand_dims(img_to_array(image.load_img('./train/'+id+'.jpg', target_size=[128,128])), axis=0)))[0])\n",
        "X = pd.DataFrame(X_arr)"
      ],
      "execution_count": 0,
      "outputs": [
        {
          "output_type": "stream",
          "text": [
            "100%|██████████| 10222/10222 [02:44<00:00, 62.23it/s]\n"
          ],
          "name": "stderr"
        }
      ]
    },
    {
      "cell_type": "code",
      "metadata": {
        "id": "8f0aFQslOCCr",
        "colab_type": "code",
        "colab": {}
      },
      "source": [
        "from keras.layers import Activation\n",
        "model = Sequential([\n",
        "    Dense(1024, input_shape=(512,)),\n",
        "    Activation('relu'),\n",
        "    Dense(256),\n",
        "    Activation('relu'),\n",
        "    Dense(120),\n",
        "    Activation('softmax'),\n",
        "])\n",
        "\n",
        "model.compile(optimizer='adam',\n",
        "              loss='categorical_crossentropy',\n",
        "              metrics=['accuracy'])"
      ],
      "execution_count": 0,
      "outputs": []
    },
    {
      "cell_type": "code",
      "metadata": {
        "id": "fN3uH8sbSgij",
        "colab_type": "code",
        "colab": {}
      },
      "source": [
        "X_train = X\n",
        "y_train = y_feature"
      ],
      "execution_count": 0,
      "outputs": []
    },
    {
      "cell_type": "code",
      "metadata": {
        "id": "7RM2SJtmSmRd",
        "colab_type": "code",
        "outputId": "80f07977-b34c-4969-d896-388fdd884b35",
        "colab": {
          "base_uri": "https://localhost:8080/",
          "height": 3590
        }
      },
      "source": [
        "model.fit(X_train, np.asarray(y_train), epochs=100, batch_size=100, verbose=True)"
      ],
      "execution_count": 0,
      "outputs": [
        {
          "output_type": "stream",
          "text": [
            "Epoch 1/100\n",
            "10222/10222 [==============================] - 3s 334us/step - loss: 4.6754 - acc: 0.1445\n",
            "Epoch 2/100\n",
            "10222/10222 [==============================] - 1s 88us/step - loss: 2.2579 - acc: 0.4205\n",
            "Epoch 3/100\n",
            "10222/10222 [==============================] - 1s 88us/step - loss: 1.5547 - acc: 0.5739\n",
            "Epoch 4/100\n",
            "10222/10222 [==============================] - 1s 88us/step - loss: 1.1363 - acc: 0.6709\n",
            "Epoch 5/100\n",
            "10222/10222 [==============================] - 1s 85us/step - loss: 0.7701 - acc: 0.7755\n",
            "Epoch 6/100\n",
            "10222/10222 [==============================] - 1s 86us/step - loss: 0.4760 - acc: 0.8640\n",
            "Epoch 7/100\n",
            "10222/10222 [==============================] - 1s 89us/step - loss: 0.2763 - acc: 0.9288\n",
            "Epoch 8/100\n",
            "10222/10222 [==============================] - 1s 86us/step - loss: 0.1816 - acc: 0.9547\n",
            "Epoch 9/100\n",
            "10222/10222 [==============================] - 1s 88us/step - loss: 0.1325 - acc: 0.9685\n",
            "Epoch 10/100\n",
            "10222/10222 [==============================] - 1s 87us/step - loss: 0.0951 - acc: 0.9793\n",
            "Epoch 11/100\n",
            "10222/10222 [==============================] - 1s 85us/step - loss: 0.0634 - acc: 0.9872\n",
            "Epoch 12/100\n",
            "10222/10222 [==============================] - 1s 84us/step - loss: 0.0465 - acc: 0.9921\n",
            "Epoch 13/100\n",
            "10222/10222 [==============================] - 1s 88us/step - loss: 0.0305 - acc: 0.9959\n",
            "Epoch 14/100\n",
            "10222/10222 [==============================] - 1s 88us/step - loss: 0.0304 - acc: 0.9952\n",
            "Epoch 15/100\n",
            "10222/10222 [==============================] - 1s 87us/step - loss: 0.0397 - acc: 0.9920\n",
            "Epoch 16/100\n",
            "10222/10222 [==============================] - 1s 88us/step - loss: 0.2097 - acc: 0.9374\n",
            "Epoch 17/100\n",
            "10222/10222 [==============================] - 1s 89us/step - loss: 0.3421 - acc: 0.8911\n",
            "Epoch 18/100\n",
            "10222/10222 [==============================] - 1s 87us/step - loss: 0.3093 - acc: 0.9021\n",
            "Epoch 19/100\n",
            "10222/10222 [==============================] - 1s 86us/step - loss: 0.2338 - acc: 0.9275\n",
            "Epoch 20/100\n",
            "10222/10222 [==============================] - 1s 87us/step - loss: 0.1725 - acc: 0.9485\n",
            "Epoch 21/100\n",
            "10222/10222 [==============================] - 1s 87us/step - loss: 0.1223 - acc: 0.9641\n",
            "Epoch 22/100\n",
            "10222/10222 [==============================] - 1s 86us/step - loss: 0.0560 - acc: 0.9850\n",
            "Epoch 23/100\n",
            "10222/10222 [==============================] - 1s 85us/step - loss: 0.0429 - acc: 0.9884\n",
            "Epoch 24/100\n",
            "10222/10222 [==============================] - 1s 86us/step - loss: 0.0218 - acc: 0.9957\n",
            "Epoch 25/100\n",
            "10222/10222 [==============================] - 1s 86us/step - loss: 0.0246 - acc: 0.9945\n",
            "Epoch 26/100\n",
            "10222/10222 [==============================] - 1s 87us/step - loss: 0.0187 - acc: 0.9958\n",
            "Epoch 27/100\n",
            "10222/10222 [==============================] - 1s 88us/step - loss: 0.0135 - acc: 0.9977\n",
            "Epoch 28/100\n",
            "10222/10222 [==============================] - 1s 87us/step - loss: 0.0094 - acc: 0.9983\n",
            "Epoch 29/100\n",
            "10222/10222 [==============================] - 1s 87us/step - loss: 0.0080 - acc: 0.9988\n",
            "Epoch 30/100\n",
            "10222/10222 [==============================] - 1s 86us/step - loss: 0.0068 - acc: 0.9990\n",
            "Epoch 31/100\n",
            "10222/10222 [==============================] - 1s 86us/step - loss: 0.0051 - acc: 0.9991\n",
            "Epoch 32/100\n",
            "10222/10222 [==============================] - 1s 87us/step - loss: 0.0062 - acc: 0.9989\n",
            "Epoch 33/100\n",
            "10222/10222 [==============================] - 1s 85us/step - loss: 0.0053 - acc: 0.9989\n",
            "Epoch 34/100\n",
            "10222/10222 [==============================] - 1s 87us/step - loss: 0.0047 - acc: 0.9990\n",
            "Epoch 35/100\n",
            "10222/10222 [==============================] - 1s 85us/step - loss: 0.0051 - acc: 0.9988\n",
            "Epoch 36/100\n",
            "10222/10222 [==============================] - 1s 86us/step - loss: 0.0050 - acc: 0.9988\n",
            "Epoch 37/100\n",
            "10222/10222 [==============================] - 1s 85us/step - loss: 0.0049 - acc: 0.9990\n",
            "Epoch 38/100\n",
            "10222/10222 [==============================] - 1s 85us/step - loss: 0.0048 - acc: 0.9990\n",
            "Epoch 39/100\n",
            "10222/10222 [==============================] - 1s 85us/step - loss: 0.0061 - acc: 0.9986\n",
            "Epoch 40/100\n",
            "10222/10222 [==============================] - 1s 85us/step - loss: 0.0042 - acc: 0.9991\n",
            "Epoch 41/100\n",
            "10222/10222 [==============================] - 1s 85us/step - loss: 0.0061 - acc: 0.9988\n",
            "Epoch 42/100\n",
            "10222/10222 [==============================] - 1s 84us/step - loss: 0.0052 - acc: 0.9990\n",
            "Epoch 43/100\n",
            "10222/10222 [==============================] - 1s 85us/step - loss: 0.0052 - acc: 0.9989\n",
            "Epoch 44/100\n",
            "10222/10222 [==============================] - 1s 85us/step - loss: 0.0048 - acc: 0.9989\n",
            "Epoch 45/100\n",
            "10222/10222 [==============================] - 1s 84us/step - loss: 0.8154 - acc: 0.8230\n",
            "Epoch 46/100\n",
            "10222/10222 [==============================] - 1s 84us/step - loss: 1.2772 - acc: 0.6607\n",
            "Epoch 47/100\n",
            "10222/10222 [==============================] - 1s 83us/step - loss: 0.5231 - acc: 0.8434\n",
            "Epoch 48/100\n",
            "10222/10222 [==============================] - 1s 86us/step - loss: 0.2031 - acc: 0.9354\n",
            "Epoch 49/100\n",
            "10222/10222 [==============================] - 1s 86us/step - loss: 0.1177 - acc: 0.9657\n",
            "Epoch 50/100\n",
            "10222/10222 [==============================] - 1s 85us/step - loss: 0.0612 - acc: 0.9822\n",
            "Epoch 51/100\n",
            "10222/10222 [==============================] - 1s 85us/step - loss: 0.0321 - acc: 0.9927\n",
            "Epoch 52/100\n",
            "10222/10222 [==============================] - 1s 86us/step - loss: 0.0376 - acc: 0.9919\n",
            "Epoch 53/100\n",
            "10222/10222 [==============================] - 1s 89us/step - loss: 0.0469 - acc: 0.9864\n",
            "Epoch 54/100\n",
            "10222/10222 [==============================] - 1s 87us/step - loss: 0.0356 - acc: 0.9907\n",
            "Epoch 55/100\n",
            "10222/10222 [==============================] - 1s 88us/step - loss: 0.0206 - acc: 0.9955\n",
            "Epoch 56/100\n",
            "10222/10222 [==============================] - 1s 85us/step - loss: 0.0178 - acc: 0.9955\n",
            "Epoch 57/100\n",
            "10222/10222 [==============================] - 1s 85us/step - loss: 0.0190 - acc: 0.9949\n",
            "Epoch 58/100\n",
            "10222/10222 [==============================] - 1s 84us/step - loss: 0.0335 - acc: 0.9916\n",
            "Epoch 59/100\n",
            "10222/10222 [==============================] - 1s 86us/step - loss: 0.0743 - acc: 0.9793\n",
            "Epoch 60/100\n",
            "10222/10222 [==============================] - 1s 85us/step - loss: 0.1364 - acc: 0.9603\n",
            "Epoch 61/100\n",
            "10222/10222 [==============================] - 1s 85us/step - loss: 0.2400 - acc: 0.9319\n",
            "Epoch 62/100\n",
            "10222/10222 [==============================] - 1s 85us/step - loss: 0.2674 - acc: 0.9260\n",
            "Epoch 63/100\n",
            "10222/10222 [==============================] - 1s 85us/step - loss: 0.1299 - acc: 0.9639\n",
            "Epoch 64/100\n",
            "10222/10222 [==============================] - 1s 86us/step - loss: 0.0708 - acc: 0.9815\n",
            "Epoch 65/100\n",
            "10222/10222 [==============================] - 1s 87us/step - loss: 0.0332 - acc: 0.9892\n",
            "Epoch 66/100\n",
            "10222/10222 [==============================] - 1s 85us/step - loss: 0.0279 - acc: 0.9919\n",
            "Epoch 67/100\n",
            "10222/10222 [==============================] - 1s 85us/step - loss: 0.0272 - acc: 0.9925\n",
            "Epoch 68/100\n",
            "10222/10222 [==============================] - 1s 85us/step - loss: 0.0225 - acc: 0.9949\n",
            "Epoch 69/100\n",
            "10222/10222 [==============================] - 1s 85us/step - loss: 0.0336 - acc: 0.9914\n",
            "Epoch 70/100\n",
            "10222/10222 [==============================] - 1s 86us/step - loss: 0.0893 - acc: 0.9774\n",
            "Epoch 71/100\n",
            "10222/10222 [==============================] - 1s 84us/step - loss: 0.1318 - acc: 0.9632\n",
            "Epoch 72/100\n",
            "10222/10222 [==============================] - 1s 84us/step - loss: 0.1550 - acc: 0.9606\n",
            "Epoch 73/100\n",
            "10222/10222 [==============================] - 1s 82us/step - loss: 0.1181 - acc: 0.9669\n",
            "Epoch 74/100\n",
            "10222/10222 [==============================] - 1s 85us/step - loss: 0.0593 - acc: 0.9824\n",
            "Epoch 75/100\n",
            "10222/10222 [==============================] - 1s 84us/step - loss: 0.0656 - acc: 0.9815\n",
            "Epoch 76/100\n",
            "10222/10222 [==============================] - 1s 83us/step - loss: 0.0623 - acc: 0.9827\n",
            "Epoch 77/100\n",
            "10222/10222 [==============================] - 1s 84us/step - loss: 0.0667 - acc: 0.9818\n",
            "Epoch 78/100\n",
            "10222/10222 [==============================] - 1s 85us/step - loss: 0.0643 - acc: 0.9835\n",
            "Epoch 79/100\n",
            "10222/10222 [==============================] - 1s 84us/step - loss: 0.0496 - acc: 0.9861\n",
            "Epoch 80/100\n",
            "10222/10222 [==============================] - 1s 86us/step - loss: 0.0961 - acc: 0.9762\n",
            "Epoch 81/100\n",
            "10222/10222 [==============================] - 1s 84us/step - loss: 0.1138 - acc: 0.9705\n",
            "Epoch 82/100\n",
            "10222/10222 [==============================] - 1s 85us/step - loss: 0.0712 - acc: 0.9797\n",
            "Epoch 83/100\n",
            "10222/10222 [==============================] - 1s 86us/step - loss: 0.0690 - acc: 0.9824\n",
            "Epoch 84/100\n",
            "10222/10222 [==============================] - 1s 85us/step - loss: 0.0606 - acc: 0.9845\n",
            "Epoch 85/100\n",
            "10222/10222 [==============================] - 1s 85us/step - loss: 0.0891 - acc: 0.9760\n",
            "Epoch 86/100\n",
            "10222/10222 [==============================] - 1s 84us/step - loss: 0.0980 - acc: 0.9741\n",
            "Epoch 87/100\n",
            "10222/10222 [==============================] - 1s 84us/step - loss: 0.0363 - acc: 0.9895\n",
            "Epoch 88/100\n",
            "10222/10222 [==============================] - 1s 86us/step - loss: 0.0312 - acc: 0.9917\n",
            "Epoch 89/100\n",
            "10222/10222 [==============================] - 1s 86us/step - loss: 0.0518 - acc: 0.9882\n",
            "Epoch 90/100\n",
            "10222/10222 [==============================] - 1s 84us/step - loss: 0.0982 - acc: 0.9785\n",
            "Epoch 91/100\n",
            "10222/10222 [==============================] - 1s 87us/step - loss: 0.0908 - acc: 0.9776\n",
            "Epoch 92/100\n",
            "10222/10222 [==============================] - 1s 85us/step - loss: 0.0602 - acc: 0.9848\n",
            "Epoch 93/100\n",
            "10222/10222 [==============================] - 1s 84us/step - loss: 0.0395 - acc: 0.9893\n",
            "Epoch 94/100\n",
            "10222/10222 [==============================] - 1s 87us/step - loss: 0.0441 - acc: 0.9906\n",
            "Epoch 95/100\n",
            "10222/10222 [==============================] - 1s 86us/step - loss: 0.0482 - acc: 0.9877\n",
            "Epoch 96/100\n",
            "10222/10222 [==============================] - 1s 85us/step - loss: 0.1092 - acc: 0.9749\n",
            "Epoch 97/100\n",
            "10222/10222 [==============================] - 1s 86us/step - loss: 0.1534 - acc: 0.9648\n",
            "Epoch 98/100\n",
            "10222/10222 [==============================] - 1s 84us/step - loss: 0.1428 - acc: 0.9678\n",
            "Epoch 99/100\n",
            "10222/10222 [==============================] - 1s 86us/step - loss: 0.1003 - acc: 0.9792\n",
            "Epoch 100/100\n",
            "10222/10222 [==============================] - 1s 86us/step - loss: 0.0610 - acc: 0.9839\n"
          ],
          "name": "stdout"
        },
        {
          "output_type": "execute_result",
          "data": {
            "text/plain": [
              "<keras.callbacks.History at 0x7f832d68f5d0>"
            ]
          },
          "metadata": {
            "tags": []
          },
          "execution_count": 213
        }
      ]
    }
  ]
}